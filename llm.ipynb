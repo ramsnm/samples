{
 "cells": [
  {
   "cell_type": "code",
   "execution_count": 4,
   "id": "08ab79d5-cf68-403b-85bb-d6d1f85bc552",
   "metadata": {},
   "outputs": [
    {
     "name": "stdout",
     "output_type": "stream",
     "text": [
      "Requirement already satisfied: langchain in /Users/ramesh/Documents/dev/.venv/lib/python3.12/site-packages (0.1.1)\n",
      "Requirement already satisfied: PyYAML>=5.3 in /Users/ramesh/Documents/dev/.venv/lib/python3.12/site-packages (from langchain) (6.0.1)\n",
      "Requirement already satisfied: SQLAlchemy<3,>=1.4 in /Users/ramesh/Documents/dev/.venv/lib/python3.12/site-packages (from langchain) (2.0.25)\n",
      "Requirement already satisfied: aiohttp<4.0.0,>=3.8.3 in /Users/ramesh/Documents/dev/.venv/lib/python3.12/site-packages (from langchain) (3.9.1)\n",
      "Requirement already satisfied: dataclasses-json<0.7,>=0.5.7 in /Users/ramesh/Documents/dev/.venv/lib/python3.12/site-packages (from langchain) (0.6.3)\n",
      "Requirement already satisfied: jsonpatch<2.0,>=1.33 in /Users/ramesh/Documents/dev/.venv/lib/python3.12/site-packages (from langchain) (1.33)\n",
      "Requirement already satisfied: langchain-community<0.1,>=0.0.13 in /Users/ramesh/Documents/dev/.venv/lib/python3.12/site-packages (from langchain) (0.0.13)\n",
      "Requirement already satisfied: langchain-core<0.2,>=0.1.9 in /Users/ramesh/Documents/dev/.venv/lib/python3.12/site-packages (from langchain) (0.1.12)\n",
      "Requirement already satisfied: langsmith<0.1.0,>=0.0.77 in /Users/ramesh/Documents/dev/.venv/lib/python3.12/site-packages (from langchain) (0.0.82)\n",
      "Requirement already satisfied: numpy<2,>=1 in /Users/ramesh/Documents/dev/.venv/lib/python3.12/site-packages (from langchain) (1.26.3)\n",
      "Requirement already satisfied: pydantic<3,>=1 in /Users/ramesh/Documents/dev/.venv/lib/python3.12/site-packages (from langchain) (2.5.3)\n",
      "Requirement already satisfied: requests<3,>=2 in /Users/ramesh/Documents/dev/.venv/lib/python3.12/site-packages (from langchain) (2.31.0)\n",
      "Requirement already satisfied: tenacity<9.0.0,>=8.1.0 in /Users/ramesh/Documents/dev/.venv/lib/python3.12/site-packages (from langchain) (8.2.3)\n",
      "Requirement already satisfied: attrs>=17.3.0 in /Users/ramesh/Documents/dev/.venv/lib/python3.12/site-packages (from aiohttp<4.0.0,>=3.8.3->langchain) (23.2.0)\n",
      "Requirement already satisfied: multidict<7.0,>=4.5 in /Users/ramesh/Documents/dev/.venv/lib/python3.12/site-packages (from aiohttp<4.0.0,>=3.8.3->langchain) (6.0.4)\n",
      "Requirement already satisfied: yarl<2.0,>=1.0 in /Users/ramesh/Documents/dev/.venv/lib/python3.12/site-packages (from aiohttp<4.0.0,>=3.8.3->langchain) (1.9.4)\n",
      "Requirement already satisfied: frozenlist>=1.1.1 in /Users/ramesh/Documents/dev/.venv/lib/python3.12/site-packages (from aiohttp<4.0.0,>=3.8.3->langchain) (1.4.1)\n",
      "Requirement already satisfied: aiosignal>=1.1.2 in /Users/ramesh/Documents/dev/.venv/lib/python3.12/site-packages (from aiohttp<4.0.0,>=3.8.3->langchain) (1.3.1)\n",
      "Requirement already satisfied: marshmallow<4.0.0,>=3.18.0 in /Users/ramesh/Documents/dev/.venv/lib/python3.12/site-packages (from dataclasses-json<0.7,>=0.5.7->langchain) (3.20.2)\n",
      "Requirement already satisfied: typing-inspect<1,>=0.4.0 in /Users/ramesh/Documents/dev/.venv/lib/python3.12/site-packages (from dataclasses-json<0.7,>=0.5.7->langchain) (0.9.0)\n",
      "Requirement already satisfied: jsonpointer>=1.9 in /Users/ramesh/Documents/dev/.venv/lib/python3.12/site-packages (from jsonpatch<2.0,>=1.33->langchain) (2.4)\n",
      "Requirement already satisfied: anyio<5,>=3 in /Users/ramesh/Documents/dev/.venv/lib/python3.12/site-packages (from langchain-core<0.2,>=0.1.9->langchain) (4.2.0)\n",
      "Requirement already satisfied: packaging<24.0,>=23.2 in /Users/ramesh/Documents/dev/.venv/lib/python3.12/site-packages (from langchain-core<0.2,>=0.1.9->langchain) (23.2)\n",
      "Requirement already satisfied: annotated-types>=0.4.0 in /Users/ramesh/Documents/dev/.venv/lib/python3.12/site-packages (from pydantic<3,>=1->langchain) (0.6.0)\n",
      "Requirement already satisfied: pydantic-core==2.14.6 in /Users/ramesh/Documents/dev/.venv/lib/python3.12/site-packages (from pydantic<3,>=1->langchain) (2.14.6)\n",
      "Requirement already satisfied: typing-extensions>=4.6.1 in /Users/ramesh/Documents/dev/.venv/lib/python3.12/site-packages (from pydantic<3,>=1->langchain) (4.9.0)\n",
      "Requirement already satisfied: charset-normalizer<4,>=2 in /Users/ramesh/Documents/dev/.venv/lib/python3.12/site-packages (from requests<3,>=2->langchain) (3.3.2)\n",
      "Requirement already satisfied: idna<4,>=2.5 in /Users/ramesh/Documents/dev/.venv/lib/python3.12/site-packages (from requests<3,>=2->langchain) (3.6)\n",
      "Requirement already satisfied: urllib3<3,>=1.21.1 in /Users/ramesh/Documents/dev/.venv/lib/python3.12/site-packages (from requests<3,>=2->langchain) (2.1.0)\n",
      "Requirement already satisfied: certifi>=2017.4.17 in /Users/ramesh/Documents/dev/.venv/lib/python3.12/site-packages (from requests<3,>=2->langchain) (2023.11.17)\n",
      "Requirement already satisfied: sniffio>=1.1 in /Users/ramesh/Documents/dev/.venv/lib/python3.12/site-packages (from anyio<5,>=3->langchain-core<0.2,>=0.1.9->langchain) (1.3.0)\n",
      "Requirement already satisfied: mypy-extensions>=0.3.0 in /Users/ramesh/Documents/dev/.venv/lib/python3.12/site-packages (from typing-inspect<1,>=0.4.0->dataclasses-json<0.7,>=0.5.7->langchain) (1.0.0)\n"
     ]
    }
   ],
   "source": [
    "!pip install langchain"
   ]
  },
  {
   "cell_type": "code",
   "execution_count": 6,
   "id": "e7be57ab-7781-4ed4-96af-6a4bff0ccac6",
   "metadata": {},
   "outputs": [],
   "source": [
    "from langchain.document_loaders import TextLoader\n",
    "loader = TextLoader(\"nvda_news_1.txt\")\n",
    "data = loader.load()\n"
   ]
  },
  {
   "cell_type": "code",
   "execution_count": 9,
   "id": "c4ce0e73",
   "metadata": {},
   "outputs": [
    {
     "data": {
      "text/plain": [
       "{'source': 'nvda_news_1.txt'}"
      ]
     },
     "execution_count": 9,
     "metadata": {},
     "output_type": "execute_result"
    }
   ],
   "source": [
    "data[0].metadata"
   ]
  },
  {
   "cell_type": "code",
   "execution_count": 13,
   "id": "2c999f58",
   "metadata": {},
   "outputs": [
    {
     "data": {
      "text/plain": [
       "{'source': 'K.G.F: Chapter 2', 'row': 0}"
      ]
     },
     "execution_count": 13,
     "metadata": {},
     "output_type": "execute_result"
    }
   ],
   "source": [
    "from langchain.document_loaders.csv_loader import CSVLoader\n",
    "\n",
    "loader = CSVLoader(\"movies.csv\", source_column=\"title\")\n",
    "data = loader.load()\n",
    "data[0].metadata\n",
    "\n"
   ]
  },
  {
   "cell_type": "code",
   "execution_count": 51,
   "id": "2963ea81",
   "metadata": {},
   "outputs": [
    {
     "name": "stdout",
     "output_type": "stream",
     "text": [
      "Requirement already satisfied: unstructured in /Users/ramesh/Documents/dev/.venv/lib/python3.12/site-packages (0.11.8)\n",
      "Requirement already satisfied: libmagic in /Users/ramesh/Documents/dev/.venv/lib/python3.12/site-packages (1.0)\n",
      "Requirement already satisfied: python-magic in /Users/ramesh/Documents/dev/.venv/lib/python3.12/site-packages (0.4.27)\n",
      "Requirement already satisfied: chardet in /Users/ramesh/Documents/dev/.venv/lib/python3.12/site-packages (from unstructured) (5.2.0)\n",
      "Requirement already satisfied: filetype in /Users/ramesh/Documents/dev/.venv/lib/python3.12/site-packages (from unstructured) (1.2.0)\n",
      "Requirement already satisfied: lxml in /Users/ramesh/Documents/dev/.venv/lib/python3.12/site-packages (from unstructured) (5.1.0)\n",
      "Requirement already satisfied: nltk in /Users/ramesh/Documents/dev/.venv/lib/python3.12/site-packages (from unstructured) (3.8.1)\n",
      "Requirement already satisfied: tabulate in /Users/ramesh/Documents/dev/.venv/lib/python3.12/site-packages (from unstructured) (0.9.0)\n",
      "Requirement already satisfied: requests in /Users/ramesh/Documents/dev/.venv/lib/python3.12/site-packages (from unstructured) (2.31.0)\n",
      "Requirement already satisfied: beautifulsoup4 in /Users/ramesh/Documents/dev/.venv/lib/python3.12/site-packages (from unstructured) (4.12.3)\n",
      "Requirement already satisfied: emoji in /Users/ramesh/Documents/dev/.venv/lib/python3.12/site-packages (from unstructured) (2.10.0)\n",
      "Requirement already satisfied: dataclasses-json in /Users/ramesh/Documents/dev/.venv/lib/python3.12/site-packages (from unstructured) (0.6.3)\n",
      "Requirement already satisfied: python-iso639 in /Users/ramesh/Documents/dev/.venv/lib/python3.12/site-packages (from unstructured) (2024.1.2)\n",
      "Requirement already satisfied: langdetect in /Users/ramesh/Documents/dev/.venv/lib/python3.12/site-packages (from unstructured) (1.0.9)\n",
      "Requirement already satisfied: numpy in /Users/ramesh/Documents/dev/.venv/lib/python3.12/site-packages (from unstructured) (1.26.3)\n",
      "Requirement already satisfied: rapidfuzz in /Users/ramesh/Documents/dev/.venv/lib/python3.12/site-packages (from unstructured) (3.6.1)\n",
      "Requirement already satisfied: backoff in /Users/ramesh/Documents/dev/.venv/lib/python3.12/site-packages (from unstructured) (2.2.1)\n",
      "Requirement already satisfied: typing-extensions in /Users/ramesh/Documents/dev/.venv/lib/python3.12/site-packages (from unstructured) (4.9.0)\n",
      "Requirement already satisfied: unstructured-client in /Users/ramesh/Documents/dev/.venv/lib/python3.12/site-packages (from unstructured) (0.15.2)\n",
      "Requirement already satisfied: wrapt in /Users/ramesh/Documents/dev/.venv/lib/python3.12/site-packages (from unstructured) (1.16.0)\n",
      "Requirement already satisfied: soupsieve>1.2 in /Users/ramesh/Documents/dev/.venv/lib/python3.12/site-packages (from beautifulsoup4->unstructured) (2.5)\n",
      "Requirement already satisfied: marshmallow<4.0.0,>=3.18.0 in /Users/ramesh/Documents/dev/.venv/lib/python3.12/site-packages (from dataclasses-json->unstructured) (3.20.2)\n",
      "Requirement already satisfied: typing-inspect<1,>=0.4.0 in /Users/ramesh/Documents/dev/.venv/lib/python3.12/site-packages (from dataclasses-json->unstructured) (0.9.0)\n",
      "Requirement already satisfied: six in /Users/ramesh/Documents/dev/.venv/lib/python3.12/site-packages (from langdetect->unstructured) (1.16.0)\n",
      "Requirement already satisfied: click in /Users/ramesh/Documents/dev/.venv/lib/python3.12/site-packages (from nltk->unstructured) (7.1.2)\n",
      "Requirement already satisfied: joblib in /Users/ramesh/Documents/dev/.venv/lib/python3.12/site-packages (from nltk->unstructured) (1.3.2)\n",
      "Requirement already satisfied: regex>=2021.8.3 in /Users/ramesh/Documents/dev/.venv/lib/python3.12/site-packages (from nltk->unstructured) (2023.12.25)\n",
      "Requirement already satisfied: tqdm in /Users/ramesh/Documents/dev/.venv/lib/python3.12/site-packages (from nltk->unstructured) (4.66.1)\n",
      "Requirement already satisfied: charset-normalizer<4,>=2 in /Users/ramesh/Documents/dev/.venv/lib/python3.12/site-packages (from requests->unstructured) (3.3.2)\n",
      "Requirement already satisfied: idna<4,>=2.5 in /Users/ramesh/Documents/dev/.venv/lib/python3.12/site-packages (from requests->unstructured) (3.6)\n",
      "Requirement already satisfied: urllib3<3,>=1.21.1 in /Users/ramesh/Documents/dev/.venv/lib/python3.12/site-packages (from requests->unstructured) (2.1.0)\n",
      "Requirement already satisfied: certifi>=2017.4.17 in /Users/ramesh/Documents/dev/.venv/lib/python3.12/site-packages (from requests->unstructured) (2023.11.17)\n",
      "Requirement already satisfied: jsonpath-python>=1.0.6 in /Users/ramesh/Documents/dev/.venv/lib/python3.12/site-packages (from unstructured-client->unstructured) (1.0.6)\n",
      "Requirement already satisfied: mypy-extensions>=1.0.0 in /Users/ramesh/Documents/dev/.venv/lib/python3.12/site-packages (from unstructured-client->unstructured) (1.0.0)\n",
      "Requirement already satisfied: packaging>=23.1 in /Users/ramesh/Documents/dev/.venv/lib/python3.12/site-packages (from unstructured-client->unstructured) (23.2)\n",
      "Requirement already satisfied: python-dateutil>=2.8.2 in /Users/ramesh/Documents/dev/.venv/lib/python3.12/site-packages (from unstructured-client->unstructured) (2.8.2)\n"
     ]
    }
   ],
   "source": [
    "# uninstall what you initially tried, to avoid conflicts\n",
    "!pip3 install unstructured libmagic"
   ]
  },
  {
   "cell_type": "code",
   "execution_count": 56,
   "id": "6100fcfc",
   "metadata": {},
   "outputs": [],
   "source": [
    "import logging\n",
    "import os\n",
    "logging.basicConfig(level=os.environ.get(\"LOGLEVEL\", \"DEBUG\"))\n",
    "\n",
    "from langchain.document_loaders import UnstructuredURLLoader\n",
    "loader = UnstructuredURLLoader(\n",
    "    urls = [\n",
    "        \"https://www.moneycontrol.com/news/business/banks/hdfc-bank-re-appoints-sanmoy-chakrabarti-as-chief-risk-officer-11259771.html\",\n",
    "        \"https://www.moneycontrol.com/news/business/markets/market-corrects-post-rbi-ups-inflation-forecast-icrr-bet-on-these-top-10-rate-sensitive-stocks-ideas-11142611.html\"\n",
    "    ]\n",
    ")"
   ]
  },
  {
   "cell_type": "code",
   "execution_count": 57,
   "id": "48dca222",
   "metadata": {},
   "outputs": [
    {
     "name": "stderr",
     "output_type": "stream",
     "text": [
      "DEBUG:urllib3.connectionpool:Starting new HTTPS connection (1): www.moneycontrol.com:443\n",
      "DEBUG:urllib3.connectionpool:https://www.moneycontrol.com:443 \"GET /news/business/banks/hdfc-bank-re-appoints-sanmoy-chakrabarti-as-chief-risk-officer-11259771.html HTTP/1.1\" 200 None\n",
      "WARNING:unstructured:libmagic is unavailable but assists in filetype detection on file-like objects. Please consider installing libmagic for better results.\n",
      "ERROR:langchain_community.document_loaders.url:Error fetching or processing https://www.moneycontrol.com/news/business/banks/hdfc-bank-re-appoints-sanmoy-chakrabarti-as-chief-risk-officer-11259771.html, exception: Invalid file. The FileType.UNK file type is not supported in partition.\n",
      "DEBUG:urllib3.connectionpool:Starting new HTTPS connection (1): www.moneycontrol.com:443\n",
      "DEBUG:urllib3.connectionpool:https://www.moneycontrol.com:443 \"GET /news/business/markets/market-corrects-post-rbi-ups-inflation-forecast-icrr-bet-on-these-top-10-rate-sensitive-stocks-ideas-11142611.html HTTP/1.1\" 200 93057\n",
      "WARNING:unstructured:libmagic is unavailable but assists in filetype detection on file-like objects. Please consider installing libmagic for better results.\n",
      "ERROR:langchain_community.document_loaders.url:Error fetching or processing https://www.moneycontrol.com/news/business/markets/market-corrects-post-rbi-ups-inflation-forecast-icrr-bet-on-these-top-10-rate-sensitive-stocks-ideas-11142611.html, exception: Invalid file. The FileType.UNK file type is not supported in partition.\n"
     ]
    },
    {
     "data": {
      "text/plain": [
       "0"
      ]
     },
     "execution_count": 57,
     "metadata": {},
     "output_type": "execute_result"
    }
   ],
   "source": [
    "data = loader.load()\n",
    "len(data)"
   ]
  },
  {
   "cell_type": "code",
   "execution_count": null,
   "id": "b0005f43",
   "metadata": {},
   "outputs": [],
   "source": []
  }
 ],
 "metadata": {
  "kernelspec": {
   "display_name": "Python 3 (ipykernel)",
   "language": "python",
   "name": "python3"
  },
  "language_info": {
   "codemirror_mode": {
    "name": "ipython",
    "version": 3
   },
   "file_extension": ".py",
   "mimetype": "text/x-python",
   "name": "python",
   "nbconvert_exporter": "python",
   "pygments_lexer": "ipython3",
   "version": "3.12.1"
  }
 },
 "nbformat": 4,
 "nbformat_minor": 5
}
